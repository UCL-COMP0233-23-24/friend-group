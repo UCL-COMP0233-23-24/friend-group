{
 "cells": [
  {
   "cell_type": "code",
   "execution_count": 1,
   "id": "54c499df",
   "metadata": {},
   "outputs": [],
   "source": [
    "group = {\n",
    "    \"Jill\": {\n",
    "        \"age\": 26,\n",
    "        \"job\": \"biologist\",\n",
    "        \"relations\": {\n",
    "            \"Zalika\": \"friend\",\n",
    "            \"John\": \"partner\"\n",
    "        }\n",
    "    },\n",
    "    \"Zalika\": {\n",
    "        \"age\": 28,\n",
    "        \"job\": \"artist\",\n",
    "        \"relations\": {\n",
    "            \"Jill\": \"friend\"\n",
    "        }\n",
    "    },\n",
    "    \"John\": {\n",
    "        \"age\": 27,\n",
    "        \"job\": \"writer\",\n",
    "        \"relations\": {\n",
    "            \"Jill\": \"partner\"\n",
    "        }\n",
    "    },\n",
    "    \"Nash\": {\n",
    "        \"age\": 34,\n",
    "        \"job\": \"chef\",\n",
    "        \"relations\": {\n",
    "            \"John\": \"cousin\",\n",
    "            \"Zalika\": \"landlord\"\n",
    "        }\n",
    "    }\n",
    "}\n"
   ]
  },
  {
   "cell_type": "code",
   "execution_count": 5,
   "id": "4efa178e",
   "metadata": {},
   "outputs": [],
   "source": [
    "import yaml"
   ]
  },
  {
   "cell_type": "code",
   "execution_count": 6,
   "id": "2e336e9c",
   "metadata": {},
   "outputs": [],
   "source": [
    "with open(\"group.yaml\", \"w\") as yaml_file:\n",
    "    yaml.dump(group, yaml_file, default_flow_style=False)"
   ]
  },
  {
   "cell_type": "code",
   "execution_count": 7,
   "id": "898cd117",
   "metadata": {},
   "outputs": [
    {
     "name": "stdout",
     "output_type": "stream",
     "text": [
      "Jill:\n",
      "  age: 26\n",
      "  job: biologist\n",
      "  relations:\n",
      "    John: partner\n",
      "    Zalika: friend\n",
      "John:\n",
      "  age: 27\n",
      "  job: writer\n",
      "  relations:\n",
      "    Jill: partner\n",
      "Nash:\n",
      "  age: 34\n",
      "  job: chef\n",
      "  relations:\n",
      "    John: cousin\n",
      "    Zalika: landlord\n",
      "Zalika:\n",
      "  age: 28\n",
      "  job: artist\n",
      "  relations:\n",
      "    Jill: friend\n",
      "\n"
     ]
    }
   ],
   "source": [
    "with open(\"group.yaml\", \"r\") as yaml_file:\n",
    "    group_data = yaml.safe_load(yaml_file)\n",
    "    print(yaml.dump(group_data, default_flow_style=False))"
   ]
  },
  {
   "cell_type": "code",
   "execution_count": null,
   "id": "1f7988ef",
   "metadata": {},
   "outputs": [],
   "source": []
  },
  {
   "cell_type": "code",
   "execution_count": null,
   "id": "ed4bf58c",
   "metadata": {},
   "outputs": [],
   "source": []
  },
  {
   "cell_type": "code",
   "execution_count": null,
   "id": "31740b75",
   "metadata": {},
   "outputs": [],
   "source": []
  },
  {
   "cell_type": "code",
   "execution_count": null,
   "id": "79b26bda",
   "metadata": {},
   "outputs": [],
   "source": []
  },
  {
   "cell_type": "code",
   "execution_count": null,
   "id": "0e2aec0d",
   "metadata": {},
   "outputs": [],
   "source": []
  },
  {
   "cell_type": "code",
   "execution_count": null,
   "id": "3c1596c5",
   "metadata": {},
   "outputs": [],
   "source": []
  },
  {
   "cell_type": "code",
   "execution_count": null,
   "id": "1fec5ba9",
   "metadata": {},
   "outputs": [],
   "source": []
  },
  {
   "cell_type": "code",
   "execution_count": null,
   "id": "22834d54",
   "metadata": {},
   "outputs": [],
   "source": []
  },
  {
   "cell_type": "code",
   "execution_count": null,
   "id": "f5c80549",
   "metadata": {},
   "outputs": [],
   "source": []
  },
  {
   "cell_type": "code",
   "execution_count": null,
   "id": "6f470ade",
   "metadata": {},
   "outputs": [],
   "source": []
  }
 ],
 "metadata": {
  "kernelspec": {
   "display_name": "Python 3 (ipykernel)",
   "language": "python",
   "name": "python3"
  },
  "language_info": {
   "codemirror_mode": {
    "name": "ipython",
    "version": 3
   },
   "file_extension": ".py",
   "mimetype": "text/x-python",
   "name": "python",
   "nbconvert_exporter": "python",
   "pygments_lexer": "ipython3",
   "version": "3.11.5"
  }
 },
 "nbformat": 4,
 "nbformat_minor": 5
}
